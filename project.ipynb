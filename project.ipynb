{
 "cells": [
  {
   "cell_type": "markdown",
   "metadata": {},
   "source": [
    "# VMamba"
   ]
  },
  {
   "cell_type": "markdown",
   "metadata": {},
   "source": [
    "### Data"
   ]
  },
  {
   "cell_type": "code",
   "execution_count": 74,
   "metadata": {},
   "outputs": [
    {
     "name": "stdout",
     "output_type": "stream",
     "text": [
      "cuda:0\n"
     ]
    }
   ],
   "source": [
    "import torch \n",
    "\n",
    "device = 'cuda:0' if torch.cuda.is_available() else 'cpu'\n",
    "torch.cuda.set_device(device)\n",
    "print(device)"
   ]
  },
  {
   "cell_type": "code",
   "execution_count": 75,
   "metadata": {},
   "outputs": [],
   "source": [
    "import torch\n",
    "from torch.utils.data import Dataset\n",
    "from torch.nn.functional import pad\n",
    "import numpy as np\n",
    "\n",
    "class ImageDataset(Dataset):\n",
    "    def __init__(self, ds, split='train'):\n",
    "        self.ds = ds[split]\n",
    "        self.split = split\n",
    "\n",
    "    def __len__(self):\n",
    "        return len(self.ds)\n",
    "\n",
    "    def __getitem__(self, idx):\n",
    "        image = torch.tensor(np.array(self.ds[idx]['image'].convert(\"RGB\")), dtype=torch.float32).transpose(-3, -1).cuda()\n",
    "        label = torch.tensor(self.ds[idx]['label'], dtype=torch.long).cuda()\n",
    "        \n",
    "        return image, label\n",
    "\n",
    "def get_padding(image, max_w, max_h):\n",
    "    h_padding = (max_w - image.shape[-1])\n",
    "    v_padding = (max_h - image.shape[-2])\n",
    "    d_padding = (3 - image.shape[-3])\n",
    "    \n",
    "    padding = (0, h_padding, 0, v_padding, 0, d_padding)\n",
    "    \n",
    "    return padding\n",
    "\n",
    "def pad_images(data):\n",
    "        max_w = max([d[0].shape[-1] for d in data]) \n",
    "        max_h = max([d[0].shape[-2] for d in data])\n",
    "\n",
    "        padded_imgs = torch.empty((len(data), 3, max_h, max_w))\n",
    "        for i, d in enumerate(data):\n",
    "             padding = get_padding(d[0], max_w, max_h)\n",
    "             padded = pad(d[0], padding)\n",
    "             padded_imgs[i] = padded\n",
    "\n",
    "        return padded_imgs.cuda(), torch.tensor([d[1] for d in data]).cuda()\n",
    "    \n",
    "# test_pad = ds['train'][:3]['image']\n",
    "# print([img.size for img in test_pad])\n",
    "\n",
    "# print(get_padding(test_pad[0], 500, 500))\n",
    "# padded = pad_images(test_pad)\n",
    "# print([img.shape for img in padded])\n"
   ]
  },
  {
   "cell_type": "code",
   "execution_count": 76,
   "metadata": {},
   "outputs": [
    {
     "name": "stdout",
     "output_type": "stream",
     "text": [
      "{'train': (100000, 2), 'valid': (10000, 2)}\n"
     ]
    }
   ],
   "source": [
    "from datasets import load_dataset\n",
    "from torch.utils.data import DataLoader\n",
    "\n",
    "ds = load_dataset(\"zh-plus/tiny-imagenet\")\n",
    "print(ds.shape)\n",
    "\n",
    "train_data = ImageDataset(ds, split='train')\n",
    "val_data = ImageDataset(ds, split='valid')\n",
    "\n",
    "batch_size = 128\n",
    "\n",
    "train_loader = DataLoader(train_data, batch_size=batch_size, collate_fn=pad_images, shuffle=True)\n",
    "val_loader = DataLoader(val_data, batch_size=batch_size, collate_fn=pad_images, shuffle=True)"
   ]
  },
  {
   "cell_type": "markdown",
   "metadata": {},
   "source": [
    "### Model"
   ]
  },
  {
   "cell_type": "code",
   "execution_count": 77,
   "metadata": {},
   "outputs": [
    {
     "name": "stdout",
     "output_type": "stream",
     "text": [
      "168904\n",
      "cuda:0\n"
     ]
    }
   ],
   "source": [
    "import vmamba as vm\n",
    "import torch\n",
    "from torch import nn\n",
    "import numpy as np\n",
    "\n",
    "default_model = 'hilbert'\n",
    "# default_model = 'standard'\n",
    "\n",
    "models = {\n",
    "    'standard': vm.vmamba_itty().cuda(),\n",
    "    'hilbert': vm.vmamba_itty_hilbert().cuda(),\n",
    "    }\n",
    "    \n",
    "# print([p.numel() for p in models[default_model][0].parameters()])\n",
    "print(np.sum([p.numel() for p in models[default_model].parameters()], axis=0))\n",
    "print(next(models[default_model].parameters()).device)"
   ]
  },
  {
   "cell_type": "code",
   "execution_count": 78,
   "metadata": {},
   "outputs": [
    {
     "name": "stdout",
     "output_type": "stream",
     "text": [
      "in torch.Size([128, 3, 64, 64])\n",
      "tensor([135, 122,  98,  98,  98, 135, 122, 122, 135,  98, 135, 135,  98, 122,\n",
      "         98, 122, 122, 135, 135, 135,  85,  98,  98, 135, 122, 122, 122,  79,\n",
      "        135, 135,  98,  98, 135, 135, 122,  98, 135,  98, 122,  98, 122,  98,\n",
      "        135, 135, 122,  79, 122,  98,  98, 135,  98, 135, 122,  98,  98,  98,\n",
      "        135, 122,  98, 135, 135, 122,  80,  98, 122, 122, 135,  98, 135,  98,\n",
      "        122,  98,  98,  85, 135, 135,  79, 122, 122, 135, 135, 122, 122, 135,\n",
      "        135,  98,  98, 122, 135,  98, 135, 122,  98, 122, 135, 135, 122, 122,\n",
      "         98,  98, 122, 135,  98,  85,  98,  98, 122, 122,  98, 122, 135, 135,\n",
      "        122, 122,  98, 122, 122, 135,  98,  98, 122, 122, 135,  85, 135,  98,\n",
      "        135,  98], device='cuda:0')\n",
      "tensor([ 37,  87, 164, 119, 190, 150, 143,  91,  71, 183,   8, 175, 122, 191,\n",
      "        136,  25, 146,  11, 128, 146,  12, 161,  48, 193,  94, 190, 145,  29,\n",
      "         90, 103,  20,  75, 145,  39, 129,  61, 180, 106,   8,  95,  50, 179,\n",
      "        125,  31,  42, 114, 128,  90, 157, 104,  48,  84,  61, 190, 158, 170,\n",
      "        171, 166, 153,  35, 198, 155, 133, 161,  21, 173,  27, 103, 179, 181,\n",
      "         43, 186,  45, 145, 107, 183, 148,  58,  70, 184,  24,  91, 191, 187,\n",
      "         22, 133,  38,  28,  18,   5,  15,  94, 159, 141,  67, 105, 188, 186,\n",
      "         90,  82,  26,   5, 179,   8, 128, 153,  84, 162, 176, 109, 192, 174,\n",
      "        135, 142,  51,  53, 172, 114,  85, 159,  34, 189,  39,  59,   5, 158,\n",
      "          7, 166], device='cuda:0')\n"
     ]
    }
   ],
   "source": [
    "import numpy as np\n",
    "\n",
    "input, label = next(iter(train_loader))\n",
    "print('in', input.shape)\n",
    "print(torch.argmax(models[default_model](input), dim=-1))\n",
    "print(label)"
   ]
  },
  {
   "cell_type": "markdown",
   "metadata": {},
   "source": [
    "### Training"
   ]
  },
  {
   "cell_type": "code",
   "execution_count": 79,
   "metadata": {},
   "outputs": [],
   "source": [
    "import torch\n",
    "from torch import nn\n",
    "from torch.utils.data import DataLoader\n",
    "from typing import Dict, Tuple, List\n",
    "\n",
    "\n",
    "# Assumes same optimizer and loss for each model\n",
    "def train_compare(\n",
    "      n_epochs:int, \n",
    "      models:Dict[str, nn.Module], \n",
    "      train_loader:DataLoader, \n",
    "      val_loader:DataLoader = None, \n",
    "      opt:torch.optim.Optimizer = torch.optim.AdamW, \n",
    "      loss_fn:nn.Module = nn.CrossEntropyLoss,\n",
    "      verbose:int = 0\n",
    "    ):\n",
    "\n",
    "    train_losses = [[] for i in range(len(models))]\n",
    "    val_losses = [[] for i in range(len(models))]\n",
    "\n",
    "    report_freq = max(n_epochs // 10 * verbose, 1)\n",
    "\n",
    "    tl = iter(train_loader)\n",
    "    if val_loader is not None: vl = iter(val_loader)\n",
    "\n",
    "    #initialize\n",
    "    optimizers = [opt(mod.parameters(), lr=1e-2) for mod in models.values()]\n",
    "    loss_fn = loss_fn()\n",
    "\n",
    "    for m in models.keys(): print(f'\\t{m}', end=\"\")\n",
    "    print()\n",
    "    \n",
    "    for e in range(n_epochs):\n",
    "        train_X, train_y = next(tl)\n",
    "        \n",
    "        for i, (model, optimizer) in enumerate(zip(models.values(), optimizers)):\n",
    "          model.train()\n",
    "          optimizer.zero_grad()\n",
    "          \n",
    "          # Make predictions for this batch\n",
    "          if verbose >= 2: print('forward, ', end=\"\")\n",
    "          train_out = model(train_X)\n",
    "          \n",
    "          \n",
    "          # Compute the loss and its gradients\n",
    "          if verbose >= 2: print('back, ', end=\"\")\n",
    "          loss = loss_fn(train_out, train_y)\n",
    "          loss.backward()\n",
    "          \n",
    "          # Adjust learning weights\n",
    "          if verbose >= 2: print('step', end=\"\")\n",
    "          optimizer.step()\n",
    "\n",
    "          # Append training and validation loss to lists\n",
    "          train_losses[i].append(loss.item())\n",
    "\n",
    "          # Obtain training accuracy curve\n",
    "          # training_accuracy_local = calculate_training_accuracy(model, data=_data_)\n",
    "          # train_accuracy.append(training_accuracy_local)\n",
    "\n",
    "          # Print information out\n",
    "          if verbose >= 1 and e % report_freq == 0:\n",
    "            if i < len(models)-1: print(f'{e:03d}:\\t', end=\"\") \n",
    "            print(f'{loss:.4f}\\t', end=\"\")\n",
    "            print('\\t' if i < len(models)-1 else '\\n', end=\"\")\n",
    "\n",
    "          # Get validation losses\n",
    "          if val_loader is not None:\n",
    "            model.eval()\n",
    "            val_X, val_y = next(vl)\n",
    "            val_out = model(val_X)\n",
    "            epoch_val_loss = loss_fn(val_out, val_y)\n",
    "            val_losses[i].append(epoch_val_loss.item())\n",
    "\n",
    "    if val_loader is None: return train_losses\n",
    "\n",
    "    return train_losses, val_losses\n",
    "\n"
   ]
  },
  {
   "cell_type": "code",
   "execution_count": null,
   "metadata": {},
   "outputs": [
    {
     "name": "stdout",
     "output_type": "stream",
     "text": [
      "\tstandard\thilbert\n",
      "000:\t5.2888\t\t5.3293\t\n",
      "010:\t5.4140\t\t5.4593\t\n",
      "020:\t5.4328\t\t5.3551\t\n",
      "030:\t5.3684\t\t5.3809\t\n"
     ]
    }
   ],
   "source": [
    "n_epochs = 100\n",
    "\n",
    "train_loss = train_compare(n_epochs, models, train_loader, verbose=1)\n",
    "# print(train_loss)"
   ]
  },
  {
   "cell_type": "markdown",
   "metadata": {},
   "source": [
    "### Plots"
   ]
  },
  {
   "cell_type": "code",
   "execution_count": 73,
   "metadata": {},
   "outputs": [
    {
     "data": {
      "image/png": "[encoded data removed]",
      "text/plain": [
       "<Figure size 640x480 with 1 Axes>"
      ]
     },
     "metadata": {},
     "output_type": "display_data"
    }
   ],
   "source": [
    "import matplotlib.pyplot as plt\n",
    "import datetime\n",
    "import numpy as np\n",
    "\n",
    "def moving_average(y, window=10):\n",
    "    average_y = []\n",
    "    for ind in range(len(y) - window + 1):\n",
    "        average_y.append(np.mean(y[ind:ind+window]))\n",
    "\n",
    "    return np.array(average_y)\n",
    "\n",
    "current_time = datetime.datetime.now()\n",
    "\n",
    "t_colors = ['pink', 'lightblue']\n",
    "avg_colors = ['red', 'blue']\n",
    "for i, (model_name, model) in enumerate(models.items()):\n",
    "    # if model_name == 'hilbert': continue\n",
    "    \n",
    "    t_loss = train_loss[i]\n",
    "    # v_loss = train_loss[i]\n",
    "    plt.plot(t_loss, label=f'{model_name} training loss', alpha=0.5, color=t_colors[i])\n",
    "    # plt.plot(v_loss, label=f'{model_name} training loss', alpha=0.65, color=v_colors[i])\n",
    "    # print(np.linspace(0, n_epochs-1, len(train_loss[i])))\n",
    "\n",
    "    x = range(n_epochs)\n",
    "    y = moving_average(t_loss, window=max(n_epochs//10, 1))\n",
    "    plt.plot(np.linspace(0, n_epochs-1, len(y)), y,\"--\", color=avg_colors[i])\n",
    "\n",
    "    plt.title(f'model:{model_name}, batch:{batch_size}')\n",
    "    plt.legend()\n",
    "    plt.xlabel('epochs')\n",
    "    plt.ylabel('loss (CE)')\n",
    "    \n",
    "plt.savefig(f'output/M{model_name}B{batch_size}T{current_time}.png')"
   ]
  },
  {
   "cell_type": "markdown",
   "metadata": {},
   "source": [
    "# Pathing Tests"
   ]
  },
  {
   "cell_type": "code",
   "execution_count": 24,
   "metadata": {},
   "outputs": [
    {
     "name": "stdout",
     "output_type": "stream",
     "text": [
      "tensor([[[ 0,  1,  2,  3],\n",
      "         [ 4,  5,  6,  7],\n",
      "         [ 8,  9, 10, 11],\n",
      "         [12, 13, 14, 15]],\n",
      "\n",
      "        [[16, 17, 18, 19],\n",
      "         [20, 21, 22, 23],\n",
      "         [24, 25, 26, 27],\n",
      "         [28, 29, 30, 31]]])\n",
      "tensor([[ 0,  1,  5,  4],\n",
      "        [ 8, 12, 13,  9],\n",
      "        [10, 14, 15, 11],\n",
      "        [ 7,  6,  2,  3]])\n",
      "tensor([[ 0,  1,  2,  3],\n",
      "        [ 4,  5,  6,  7],\n",
      "        [ 8,  9, 10, 11],\n",
      "        [12, 13, 14, 15]])\n"
     ]
    }
   ],
   "source": [
    "import pathing\n",
    "import torch\n",
    "import numpy as np\n",
    "\n",
    "# hcurve = torch.tensor([0, 1, 5, 4, \n",
    "#                        8, 12, 13, 9, \n",
    "#                        10, 14, 15, 11, \n",
    "#                        7, 6, 2, 3])\n",
    "hcurve = torch.tensor([0, 1, 14, 15, \n",
    "                       3, 2, 13, 12, \n",
    "                       4, 7, 8 , 11,\n",
    "                       5, 6, 9 , 10])\n",
    "\n",
    "# print(torch.argsort(hcurve).reshape(4,4))\n",
    "\n",
    "ten = torch.arange(0, 32).reshape((2,4,4))\n",
    "print(ten)\n",
    "hten = pathing.sort_by_indices(ten.flatten(), torch.argsort(hcurve)).reshape(4,4)\n",
    "print(hten)\n",
    "print(pathing.sort_by_indices(hten.flatten(), hcurve).reshape(4,4))"
   ]
  },
  {
   "cell_type": "code",
   "execution_count": 15,
   "metadata": {},
   "outputs": [
    {
     "name": "stdout",
     "output_type": "stream",
     "text": [
      "[(0.0, -1.0), (1.0, -1.0), (1.0, -2.0), (0.0, -2.0), (0.0, -3.0), (0.0, -4.0), (0.0, -5.0), (1.0, -5.0), (1.0, -4.0), (1.0, -3.0), (2.0, -3.0), (2.0, -4.0), (2.0, -5.0), (3.0, -5.0), (3.0, -4.0), (3.0, -3.0), (3.0, -2.0), (2.0, -2.0), (2.0, -1.0), (3.0, -1.0)]\n",
      "tensor([[ 0,  1,  5,  4],\n",
      "        [ 8, 12, 16, 17],\n",
      "        [13,  9, 10, 14],\n",
      "        [18, 19, 15, 11],\n",
      "        [ 7,  6,  2,  3]])\n",
      "tensor([[ 0,  1, 18, 19],\n",
      "        [ 3,  2, 17, 16],\n",
      "        [ 4,  9, 10, 15],\n",
      "        [ 5,  8, 11, 14],\n",
      "        [ 6,  7, 12, 13]])\n",
      "\n",
      "tensor([[ 0,  1,  2,  3],\n",
      "        [ 4,  5,  6,  7],\n",
      "        [ 8,  9, 10, 11],\n",
      "        [12, 13, 14, 15],\n",
      "        [16, 17, 18, 19]])\n",
      "tensor([[ 0,  1,  5,  4],\n",
      "        [ 8, 12, 16, 17],\n",
      "        [13,  9, 10, 14],\n",
      "        [18, 19, 15, 11],\n",
      "        [ 7,  6,  2,  3]])\n"
     ]
    }
   ],
   "source": [
    "import spacefill.curvetools as ct\n",
    "import numpy as np\n",
    "\n",
    "\n",
    "# curve_map = ct.generate_map(90, 125)\n",
    "x_size, y_size = 4, 5\n",
    "curve_map = ct.generate_map(x_size, -y_size)\n",
    "# print('Byte Size: {}'.format(sys.getsizeof(curve_map)))\n",
    "# print('Amount of points: {}'.format(len(curve_map)))\n",
    "\n",
    "# point = ct.coord_to_position((25, 25), curve_map)\n",
    "# coord = ct.position_to_coord(point, curve_map)\n",
    "\n",
    "import matplotlib.pyplot as plt\n",
    "# print(curve_map)\n",
    "print(curve_map[0])\n",
    "px, py = list(zip(*(curve_map[0])))\n",
    "inds = torch.tensor([(-y-1)*x_size + x for x, y in curve_map[0]], dtype=torch.int64)\n",
    "print(inds.reshape(y_size,x_size))\n",
    "print(torch.argsort(inds).reshape(y_size,x_size))\n",
    "# px, py = dat\n",
    "# plt.plot(px, py)\n",
    "# plt.plot([coord[0]], [coord[1]], 'ro')\n",
    "# plt.show()\n",
    "print()\n",
    "arr = torch.arange(0,x_size*y_size).reshape(y_size, x_size)\n",
    "print(arr)\n",
    "arr_sort = arr.flatten().gather(dim=-1, index=inds).reshape(y_size, x_size)\n",
    "print(arr_sort)"
   ]
  }
 ],
 "metadata": {
  "kernelspec": {
   "display_name": "vmamba",
   "language": "python",
   "name": "python3"
  },
  "language_info": {
   "codemirror_mode": {
    "name": "ipython",
    "version": 3
   },
   "file_extension": ".py",
   "mimetype": "text/x-python",
   "name": "python",
   "nbconvert_exporter": "python",
   "pygments_lexer": "ipython3",
   "version": "3.10.16"
  }
 },
 "nbformat": 4,
 "nbformat_minor": 2
}
